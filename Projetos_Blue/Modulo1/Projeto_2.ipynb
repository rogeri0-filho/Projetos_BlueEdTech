{
  "cells": [
    {
      "cell_type": "code",
      "execution_count": 5,
      "metadata": {
        "id": "ec27dfCi65zL"
      },
      "outputs": [],
      "source": [
        "# Função de classificação do Modelo 1;\n",
        "def decisionTree1(x):\n",
        "  ''' \n",
        "  x - Variavel qualquer que recebe o parametros de ['petal length (cm)'], ['petal width (cm)'], ['sepal width (cm)']\n",
        "  eliminando a necessidade de criar uma variavel para cada um dos mesmos.\n",
        "  0 - Setosa\n",
        "  1 - Versicolor\n",
        "  2 - Virginica \n",
        "  '''\n",
        "  if x['petal length (cm)'] <= 2.45:\n",
        "    return 0\n",
        "  else:\n",
        "    if x['petal width (cm)'] <= 1.75:\n",
        "      if x['petal length (cm)'] <= 4.95:\n",
        "        if x['petal width (cm)'] <= 1.65:\n",
        "          return 1\n",
        "        else:\n",
        "          return 2\n",
        "      else:\n",
        "        if x['petal width (cm)'] <= 1.55:\n",
        "          return 2\n",
        "        else:\n",
        "          return 1\n",
        "    else:\n",
        "      if x['petal length (cm)'] <= 4.85:\n",
        "        if x['sepal width (cm)'] <= 3.1:\n",
        "          return 2\n",
        "        else:\n",
        "          return 1\n",
        "      else:\n",
        "        return 2"
      ]
    },
    {
      "cell_type": "code",
      "execution_count": 6,
      "metadata": {
        "id": "yMNU9JxL3j6v"
      },
      "outputs": [],
      "source": [
        "# Função de classificação do Modelo 2;\n",
        "def decisionTree2(x):\n",
        "  '''\n",
        "    x - Variavel qualquer que recebe o parametros de ['petal length (cm)'], ['petal width (cm)'],\n",
        "  eliminando a necessidade de criar uma variavel para cada um dos mesmos.\n",
        "  0 - Setosa\n",
        "  1 - Versicolor\n",
        "  2 - Virginica \n",
        "  '''\n",
        "  if x['petal length (cm)'] <= 2.45:\n",
        "    return 0\n",
        "  elif x['petal width (cm)'] <= 1.75:\n",
        "    return 1\n",
        "  else:\n",
        "    return 2"
      ]
    },
    {
      "cell_type": "code",
      "execution_count": 7,
      "metadata": {
        "id": "l2DhmTRA31Cz"
      },
      "outputs": [],
      "source": [
        "# Importação das bibliotecas a serem usadas;\n",
        "# Todos Datasets são importados de dentro do sklearn;\n",
        "# Lib pandas é importada e nomeada de 'pd';\n",
        "# Lib numpy é importada e nomeada de 'np';\n",
        "\n",
        "from sklearn import datasets\n",
        "import pandas as pd\n",
        "import numpy as np\n",
        "\n",
        "# Declaração de variáveis;\n",
        "\n",
        "iris = datasets.load_iris() #Faz a base de dados iris ser carregada;\n",
        "dados = pd.DataFrame(data = np.c_[iris['data'], iris['target']], \n",
        "                     columns = iris['feature_names'] + ['target']) #Gera a tabela com a base de dados iris;"
      ]
    },
    {
      "cell_type": "code",
      "execution_count": null,
      "metadata": {
        "id": "TXlObuHsmQAf"
      },
      "outputs": [],
      "source": [
        "# Modelo de cassificação para arvore 1\n",
        "dados['target_modelo 1'] = 1\n",
        "dados['target_modelo 1'] = dados.apply(decisionTree1, axis = 1) \n",
        "dados"
      ]
    },
    {
      "cell_type": "code",
      "execution_count": null,
      "metadata": {
        "id": "3-HNnd8Uwapx"
      },
      "outputs": [],
      "source": [
        "# Modelo de cassificação para arvore 2\n",
        "dados['target modelo 2'] = dados.aggregate(decisionTree2, axis = 1)\n",
        "dados"
      ]
    },
    {
      "cell_type": "code",
      "execution_count": 10,
      "metadata": {
        "id": "e6bVAJKL4Pwa"
      },
      "outputs": [],
      "source": [
        "# Função de Avaliação Para os Modelos\n",
        "def modelsAvaliation(target, resultado_modelo):\n",
        "  return (target == resultado_modelo, resultado_modelo)"
      ]
    },
    {
      "cell_type": "code",
      "execution_count": 11,
      "metadata": {
        "id": "uN_vC2uVKaj3"
      },
      "outputs": [],
      "source": [
        "# Função para matriz de confusão\n",
        "def matriz(dados, num_modelo):\n",
        "  matriz = [[0,0,0], [0,0,0], [0,0,0]]\n",
        "  listaSetosa = list()\n",
        "  listaVersicolor = list()\n",
        "  listaVirginica = list()\n",
        "\n",
        "  coluna = 0\n",
        "  if num_modelo == 1:\n",
        "    coluna = 5\n",
        "  if num_modelo == 2:\n",
        "    coluna = 6\n",
        "  for i in range(0, 150):\n",
        "    if i <= 49:\n",
        "      listaSetosa.append(modelsAvaliation(dados.iloc[i, 4], dados.iloc[i, coluna]))\n",
        "    if i >= 50 and i <= 99:\n",
        "      listaVersicolor.append(modelsAvaliation(dados.iloc[i, 4], dados.iloc[i, coluna]))\n",
        "    if i >= 100:\n",
        "      listaVirginica.append(modelsAvaliation(dados.iloc[i, 4], dados.iloc[i, coluna]))\n",
        "\n",
        "  matriz[0][0] = listaSetosa.count((True, 0))\n",
        "  matriz[0][1] = listaSetosa.count((False, 1))\n",
        "  matriz[0][2] = listaSetosa.count((False, 2))\n",
        "\n",
        "  matriz[1][0] = listaVersicolor.count((False, 0))\n",
        "  matriz[1][1] = listaVersicolor.count((True, 1))\n",
        "  matriz[1][2] = listaVersicolor.count((False, 2))\n",
        "\n",
        "  matriz[2][0] = listaVirginica.count((False, 0))\n",
        "  matriz[2][1] = listaVirginica.count((False, 1))\n",
        "  matriz[2][2] = listaVirginica.count((True, 2))\n",
        "\n",
        "  return matriz"
      ]
    },
    {
      "cell_type": "code",
      "execution_count": null,
      "metadata": {
        "id": "hP4he27eOxcw"
      },
      "outputs": [],
      "source": [
        "matriz_modelo1 = matriz(dados, 1)\n",
        "matriz_modelo2 = matriz(dados, 2)\n",
        "\n",
        "print(f'Matriz de confusão - Modelo 1:\\n{matriz_modelo1}')\n",
        "print()\n",
        "print(f'Matriz de confusão - Modelo :\\n{matriz_modelo2}')"
      ]
    },
    {
      "cell_type": "code",
      "execution_count": 13,
      "metadata": {
        "id": "qg7zB6nhO7Av"
      },
      "outputs": [],
      "source": [
        "def acuracia(matriz):\n",
        "  valoresDiagonais = matriz[0][0] + matriz[1][1] + matriz[2][2]\n",
        "  somaTotal = 0\n",
        "  \n",
        "  for c in range(0, 3):\n",
        "    for d in range(3):\n",
        "      somaTotal += matriz[c][d]\n",
        "\n",
        "  return valoresDiagonais / somaTotal"
      ]
    },
    {
      "cell_type": "code",
      "execution_count": null,
      "metadata": {
        "id": "dWRPRJD7VOrR"
      },
      "outputs": [],
      "source": [
        "acuracia_modelo1 = acuracia(matriz_modelo1)\n",
        "acuracia_modelo2 = acuracia(matriz_modelo2)\n",
        "\n",
        "print(f'Acuracia - Modelo 1:\\n{acuracia_modelo1:.2f}')\n",
        "print()\n",
        "print(f'Acuracia - Modelo 2:\\n{acuracia_modelo2:.2f}')"
      ]
    },
    {
      "cell_type": "code",
      "execution_count": null,
      "metadata": {
        "id": "I_fBG5bcW1Uh"
      },
      "outputs": [],
      "source": [
        "if acuracia_modelo1 >= acuracia_modelo2:\n",
        "  print('Modelo1 Superior ao 2')\n",
        "else:\n",
        "  print('Modelo2 Superior ao 1')"
      ]
    },
    {
      "cell_type": "code",
      "execution_count": 16,
      "metadata": {
        "id": "8BhEFYHAfxqK"
      },
      "outputs": [],
      "source": [
        "def contagemErros(matriz):\n",
        "  errosSetosa = matriz[0][1] + matriz[0][2]\n",
        "  errosVersicolor = matriz[1][0] + matriz[1][2]\n",
        "  errosVirginica = matriz[2][0] + matriz[2][1]\n",
        "\n",
        "  if errosSetosa > errosVersicolor and errosSetosa > errosVirginica:\n",
        "    return 0\n",
        "  elif errosVersicolor > errosSetosa and errosVersicolor > errosVirginica:\n",
        "    return 1\n",
        "  elif errosVirginica > errosSetosa and errosVirginica > errosVersicolor:\n",
        "    return 2"
      ]
    },
    {
      "cell_type": "code",
      "execution_count": null,
      "metadata": {
        "id": "B28gmFBjjaJC"
      },
      "outputs": [],
      "source": [
        "erros_modelo1 = contagemErros(matriz_modelo1)\n",
        "erros_modelo2 = contagemErros(matriz_modelo2)\n",
        "\n",
        "print(f'Flor com a maior quantidade de erros no modelo 1:\\n{erros_modelo1}')\n",
        "print()\n",
        "print(f'Flor com a maior quantidade de erros no modelo 2:\\n{erros_modelo2}')"
      ]
    }
  ],
  "metadata": {
    "colab": {
      "collapsed_sections": [],
      "name": "Projeto2_Blue.ipynb",
      "provenance": []
    },
    "kernelspec": {
      "display_name": "Python 3",
      "name": "python3"
    },
    "language_info": {
      "codemirror_mode": {
        "name": "ipython",
        "version": 3
      },
      "file_extension": ".py",
      "mimetype": "text/x-python",
      "name": "python",
      "nbconvert_exporter": "python",
      "pygments_lexer": "ipython3",
      "version": "3.10.2"
    }
  },
  "nbformat": 4,
  "nbformat_minor": 0
}
