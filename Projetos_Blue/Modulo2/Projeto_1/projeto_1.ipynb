{
 "cells": [
  {
   "cell_type": "markdown",
   "metadata": {},
   "source": [
    "# Projeto 1 - Predição da precificação de casas \n",
    "## House Sales in King County, USA - Kaggle"
   ]
  },
  {
   "cell_type": "markdown",
   "metadata": {},
   "source": [
    "_________"
   ]
  },
  {
   "cell_type": "markdown",
   "metadata": {},
   "source": [
    "## Introdução"
   ]
  },
  {
   "cell_type": "markdown",
   "metadata": {},
   "source": [
    "Este é um conjunto de dados armazenado no Kaggle, uma plataforma de estudo e competições de Ciência de Dados. Segue a tradução sobre o conjunto de dados.\n",
    "\n",
    "**\"Este conjunto de dados contém preços de venda de casas para King County, que inclui Seattle. Inclui casas vendidas entre maio de 2014 e maio de 2015.\"**\n",
    "\n",
    "Segue a descrição das variaveis: \n",
    "| Nome da Variavel | Descrição da variavel |\n",
    "| -- | -- |\n",
    "| id | ID exclusivo para cada casa vendida | \n",
    "| date | Data da venda da casa | \n",
    "| price | Preço de cada casa vendida | \n",
    "| bedrooms | Número de quartos  |\n",
    "| bathrooms | Número de banheiros, onde 0,5 representa um quarto com vaso sanitário, mas sem chuveiro  |\n",
    "| sqft_living | Pés quadrados do espaço interior dos apartamentos  |\n",
    "| sqft_lot | Pés quadrados do terreno  |\n",
    "| floors | Número de andares  |\n",
    "| waterfront | Uma variável fictícia para saber se o apartamento estava com vista para a orla ou não  |\n",
    "| view | Um índice de 0 a 4 de quão boa era a vista do imóvel  |\n",
    "| condition | Um índice de 1 a 5 sobre a condição do apartamento,|\n",
    "| grade | Um índice de 1 a 13, onde 1 a 3 fica aquém da construção e design de edifícios, 7 tem um nível médio de construção e design e 11 a 13 tem um alto nível de construção e design. |\n",
    "| sqft_above | Pés quadrados do espaço interno da habitação que está acima do nível do solo |\n",
    "| sqft_basement | Pés quadrados do espaço interno da habitação que está abaixo do nível do solo|\n",
    "| yr_built | O ano em que a casa foi construída inicialmente|\n",
    "| yr_renovated | O ano da última reforma da casa|\n",
    "| zipcode | Em que área de código postal a casa está|\n",
    "| lat | Latitude|\n",
    "| long | Longitude|\n",
    "| sqft_living15 | Pés quadrados do espaço habitacional interior para os 15 vizinhos mais próximos|\n",
    "| sqft_lot15 | Pés quadrados dos lotes dos 15 vizinhos mais próximos|"
   ]
  },
  {
   "cell_type": "markdown",
   "metadata": {},
   "source": [
    "_________"
   ]
  },
  {
   "cell_type": "markdown",
   "metadata": {},
   "source": [
    "# Sobre este projeto\n",
    "\n",
    "Este é o primeiro projeto do segundo módulo do curso de Ciência de Dados da BlueEdTech. O projeto tem o intuito de treinar os conhecimentos adquiridos a cerca do curso ate o atual momento. E por subsequente, demonstrar as dificuldades na hora de aplicar os mesmos.\n",
    "\n",
    "Os principais pontos que serão avaliados:\n",
    "\n",
    "- Levantamento de hipoteses\n",
    "- Manipulação de dados e criação de gráficos simples com o `Pandas`\n",
    "- Criar um modelo usando regressão linear e justificar"
   ]
  },
  {
   "cell_type": "markdown",
   "metadata": {},
   "source": [
    "_________"
   ]
  },
  {
   "cell_type": "markdown",
   "metadata": {},
   "source": [
    "# Preparação do ambiente\n",
    "\n",
    "- Acessem o link - https://www.kaggle.com/datasets/harlfoxem/housesalesprediction e logo abaixo e clique em \"Download\". Caso voce não tenha uma conta no Kaggle, crie uma e retorne para esse ponto para realizar o download."
   ]
  },
  {
   "cell_type": "markdown",
   "metadata": {},
   "source": [
    "_________"
   ]
  },
  {
   "cell_type": "markdown",
   "metadata": {},
   "source": [
    "Faremos uma analise exploratoria sobre estes dados. Para isso, será utilizada a biblioteca numpy para obter a contagem da média, mediana e os quartis."
   ]
  },
  {
   "cell_type": "code",
   "execution_count": 1,
   "metadata": {},
   "outputs": [
    {
     "data": {
      "text/html": [
       "<div>\n",
       "<style scoped>\n",
       "    .dataframe tbody tr th:only-of-type {\n",
       "        vertical-align: middle;\n",
       "    }\n",
       "\n",
       "    .dataframe tbody tr th {\n",
       "        vertical-align: top;\n",
       "    }\n",
       "\n",
       "    .dataframe thead th {\n",
       "        text-align: right;\n",
       "    }\n",
       "</style>\n",
       "<table border=\"1\" class=\"dataframe\">\n",
       "  <thead>\n",
       "    <tr style=\"text-align: right;\">\n",
       "      <th></th>\n",
       "      <th>id</th>\n",
       "      <th>date</th>\n",
       "      <th>price</th>\n",
       "      <th>bedrooms</th>\n",
       "      <th>bathrooms</th>\n",
       "      <th>sqft_living</th>\n",
       "      <th>sqft_lot</th>\n",
       "      <th>floors</th>\n",
       "      <th>waterfront</th>\n",
       "      <th>view</th>\n",
       "      <th>...</th>\n",
       "      <th>grade</th>\n",
       "      <th>sqft_above</th>\n",
       "      <th>sqft_basement</th>\n",
       "      <th>yr_built</th>\n",
       "      <th>yr_renovated</th>\n",
       "      <th>zipcode</th>\n",
       "      <th>lat</th>\n",
       "      <th>long</th>\n",
       "      <th>sqft_living15</th>\n",
       "      <th>sqft_lot15</th>\n",
       "    </tr>\n",
       "  </thead>\n",
       "  <tbody>\n",
       "    <tr>\n",
       "      <th>0</th>\n",
       "      <td>7129300520</td>\n",
       "      <td>20141013T000000</td>\n",
       "      <td>221900.0</td>\n",
       "      <td>3</td>\n",
       "      <td>1.00</td>\n",
       "      <td>1180</td>\n",
       "      <td>5650</td>\n",
       "      <td>1.0</td>\n",
       "      <td>0</td>\n",
       "      <td>0</td>\n",
       "      <td>...</td>\n",
       "      <td>7</td>\n",
       "      <td>1180</td>\n",
       "      <td>0</td>\n",
       "      <td>1955</td>\n",
       "      <td>0</td>\n",
       "      <td>98178</td>\n",
       "      <td>47.5112</td>\n",
       "      <td>-122.257</td>\n",
       "      <td>1340</td>\n",
       "      <td>5650</td>\n",
       "    </tr>\n",
       "    <tr>\n",
       "      <th>1</th>\n",
       "      <td>6414100192</td>\n",
       "      <td>20141209T000000</td>\n",
       "      <td>538000.0</td>\n",
       "      <td>3</td>\n",
       "      <td>2.25</td>\n",
       "      <td>2570</td>\n",
       "      <td>7242</td>\n",
       "      <td>2.0</td>\n",
       "      <td>0</td>\n",
       "      <td>0</td>\n",
       "      <td>...</td>\n",
       "      <td>7</td>\n",
       "      <td>2170</td>\n",
       "      <td>400</td>\n",
       "      <td>1951</td>\n",
       "      <td>1991</td>\n",
       "      <td>98125</td>\n",
       "      <td>47.7210</td>\n",
       "      <td>-122.319</td>\n",
       "      <td>1690</td>\n",
       "      <td>7639</td>\n",
       "    </tr>\n",
       "    <tr>\n",
       "      <th>2</th>\n",
       "      <td>5631500400</td>\n",
       "      <td>20150225T000000</td>\n",
       "      <td>180000.0</td>\n",
       "      <td>2</td>\n",
       "      <td>1.00</td>\n",
       "      <td>770</td>\n",
       "      <td>10000</td>\n",
       "      <td>1.0</td>\n",
       "      <td>0</td>\n",
       "      <td>0</td>\n",
       "      <td>...</td>\n",
       "      <td>6</td>\n",
       "      <td>770</td>\n",
       "      <td>0</td>\n",
       "      <td>1933</td>\n",
       "      <td>0</td>\n",
       "      <td>98028</td>\n",
       "      <td>47.7379</td>\n",
       "      <td>-122.233</td>\n",
       "      <td>2720</td>\n",
       "      <td>8062</td>\n",
       "    </tr>\n",
       "    <tr>\n",
       "      <th>3</th>\n",
       "      <td>2487200875</td>\n",
       "      <td>20141209T000000</td>\n",
       "      <td>604000.0</td>\n",
       "      <td>4</td>\n",
       "      <td>3.00</td>\n",
       "      <td>1960</td>\n",
       "      <td>5000</td>\n",
       "      <td>1.0</td>\n",
       "      <td>0</td>\n",
       "      <td>0</td>\n",
       "      <td>...</td>\n",
       "      <td>7</td>\n",
       "      <td>1050</td>\n",
       "      <td>910</td>\n",
       "      <td>1965</td>\n",
       "      <td>0</td>\n",
       "      <td>98136</td>\n",
       "      <td>47.5208</td>\n",
       "      <td>-122.393</td>\n",
       "      <td>1360</td>\n",
       "      <td>5000</td>\n",
       "    </tr>\n",
       "    <tr>\n",
       "      <th>4</th>\n",
       "      <td>1954400510</td>\n",
       "      <td>20150218T000000</td>\n",
       "      <td>510000.0</td>\n",
       "      <td>3</td>\n",
       "      <td>2.00</td>\n",
       "      <td>1680</td>\n",
       "      <td>8080</td>\n",
       "      <td>1.0</td>\n",
       "      <td>0</td>\n",
       "      <td>0</td>\n",
       "      <td>...</td>\n",
       "      <td>8</td>\n",
       "      <td>1680</td>\n",
       "      <td>0</td>\n",
       "      <td>1987</td>\n",
       "      <td>0</td>\n",
       "      <td>98074</td>\n",
       "      <td>47.6168</td>\n",
       "      <td>-122.045</td>\n",
       "      <td>1800</td>\n",
       "      <td>7503</td>\n",
       "    </tr>\n",
       "  </tbody>\n",
       "</table>\n",
       "<p>5 rows × 21 columns</p>\n",
       "</div>"
      ],
      "text/plain": [
       "           id             date     price  bedrooms  bathrooms  sqft_living  \\\n",
       "0  7129300520  20141013T000000  221900.0         3       1.00         1180   \n",
       "1  6414100192  20141209T000000  538000.0         3       2.25         2570   \n",
       "2  5631500400  20150225T000000  180000.0         2       1.00          770   \n",
       "3  2487200875  20141209T000000  604000.0         4       3.00         1960   \n",
       "4  1954400510  20150218T000000  510000.0         3       2.00         1680   \n",
       "\n",
       "   sqft_lot  floors  waterfront  view  ...  grade  sqft_above  sqft_basement  \\\n",
       "0      5650     1.0           0     0  ...      7        1180              0   \n",
       "1      7242     2.0           0     0  ...      7        2170            400   \n",
       "2     10000     1.0           0     0  ...      6         770              0   \n",
       "3      5000     1.0           0     0  ...      7        1050            910   \n",
       "4      8080     1.0           0     0  ...      8        1680              0   \n",
       "\n",
       "   yr_built  yr_renovated  zipcode      lat     long  sqft_living15  \\\n",
       "0      1955             0    98178  47.5112 -122.257           1340   \n",
       "1      1951          1991    98125  47.7210 -122.319           1690   \n",
       "2      1933             0    98028  47.7379 -122.233           2720   \n",
       "3      1965             0    98136  47.5208 -122.393           1360   \n",
       "4      1987             0    98074  47.6168 -122.045           1800   \n",
       "\n",
       "   sqft_lot15  \n",
       "0        5650  \n",
       "1        7639  \n",
       "2        8062  \n",
       "3        5000  \n",
       "4        7503  \n",
       "\n",
       "[5 rows x 21 columns]"
      ]
     },
     "execution_count": 1,
     "metadata": {},
     "output_type": "execute_result"
    }
   ],
   "source": [
    "# Leitura dos Dados\n",
    "import pandas as pd\n",
    "df1 = pd.read_csv('kc_house_data.csv')\n",
    "df1.head()"
   ]
  },
  {
   "cell_type": "markdown",
   "metadata": {},
   "source": [
    "___"
   ]
  },
  {
   "cell_type": "markdown",
   "metadata": {},
   "source": [
    "- Como alguns dados na base de dados estão em pés quadrados (sqft), o comando a baixo faz a conversão de pés quadrados (ft²) pra metros quadrados (m²) para a melhor interpretação dos dados."
   ]
  },
  {
   "cell_type": "markdown",
   "metadata": {},
   "source": [
    "- Como 1ft² corresponde a 0.092903m², basta fazer a multiplicação da quantidade de pés quadrados por 0.092903 para obter o equivalente em m²."
   ]
  },
  {
   "cell_type": "code",
   "execution_count": 2,
   "metadata": {},
   "outputs": [
    {
     "data": {
      "text/html": [
       "<div>\n",
       "<style scoped>\n",
       "    .dataframe tbody tr th:only-of-type {\n",
       "        vertical-align: middle;\n",
       "    }\n",
       "\n",
       "    .dataframe tbody tr th {\n",
       "        vertical-align: top;\n",
       "    }\n",
       "\n",
       "    .dataframe thead th {\n",
       "        text-align: right;\n",
       "    }\n",
       "</style>\n",
       "<table border=\"1\" class=\"dataframe\">\n",
       "  <thead>\n",
       "    <tr style=\"text-align: right;\">\n",
       "      <th></th>\n",
       "      <th>id</th>\n",
       "      <th>date</th>\n",
       "      <th>price</th>\n",
       "      <th>bedrooms</th>\n",
       "      <th>bathrooms</th>\n",
       "      <th>sqft_living</th>\n",
       "      <th>sqft_lot</th>\n",
       "      <th>floors</th>\n",
       "      <th>waterfront</th>\n",
       "      <th>view</th>\n",
       "      <th>...</th>\n",
       "      <th>grade</th>\n",
       "      <th>sqft_above</th>\n",
       "      <th>sqft_basement</th>\n",
       "      <th>yr_built</th>\n",
       "      <th>yr_renovated</th>\n",
       "      <th>zipcode</th>\n",
       "      <th>lat</th>\n",
       "      <th>long</th>\n",
       "      <th>sqft_living15</th>\n",
       "      <th>sqft_lot15</th>\n",
       "    </tr>\n",
       "  </thead>\n",
       "  <tbody>\n",
       "    <tr>\n",
       "      <th>0</th>\n",
       "      <td>7129300520</td>\n",
       "      <td>20141013T000000</td>\n",
       "      <td>221900.0</td>\n",
       "      <td>3</td>\n",
       "      <td>1.00</td>\n",
       "      <td>109.626</td>\n",
       "      <td>524.902</td>\n",
       "      <td>1.0</td>\n",
       "      <td>0</td>\n",
       "      <td>0</td>\n",
       "      <td>...</td>\n",
       "      <td>7</td>\n",
       "      <td>109.626</td>\n",
       "      <td>0.000</td>\n",
       "      <td>1955</td>\n",
       "      <td>0</td>\n",
       "      <td>98178</td>\n",
       "      <td>47.5112</td>\n",
       "      <td>-122.257</td>\n",
       "      <td>124.490</td>\n",
       "      <td>524.902</td>\n",
       "    </tr>\n",
       "    <tr>\n",
       "      <th>1</th>\n",
       "      <td>6414100192</td>\n",
       "      <td>20141209T000000</td>\n",
       "      <td>538000.0</td>\n",
       "      <td>3</td>\n",
       "      <td>2.25</td>\n",
       "      <td>238.761</td>\n",
       "      <td>672.804</td>\n",
       "      <td>2.0</td>\n",
       "      <td>0</td>\n",
       "      <td>0</td>\n",
       "      <td>...</td>\n",
       "      <td>7</td>\n",
       "      <td>201.600</td>\n",
       "      <td>37.161</td>\n",
       "      <td>1951</td>\n",
       "      <td>1991</td>\n",
       "      <td>98125</td>\n",
       "      <td>47.7210</td>\n",
       "      <td>-122.319</td>\n",
       "      <td>157.006</td>\n",
       "      <td>709.686</td>\n",
       "    </tr>\n",
       "    <tr>\n",
       "      <th>2</th>\n",
       "      <td>5631500400</td>\n",
       "      <td>20150225T000000</td>\n",
       "      <td>180000.0</td>\n",
       "      <td>2</td>\n",
       "      <td>1.00</td>\n",
       "      <td>71.535</td>\n",
       "      <td>929.030</td>\n",
       "      <td>1.0</td>\n",
       "      <td>0</td>\n",
       "      <td>0</td>\n",
       "      <td>...</td>\n",
       "      <td>6</td>\n",
       "      <td>71.535</td>\n",
       "      <td>0.000</td>\n",
       "      <td>1933</td>\n",
       "      <td>0</td>\n",
       "      <td>98028</td>\n",
       "      <td>47.7379</td>\n",
       "      <td>-122.233</td>\n",
       "      <td>252.696</td>\n",
       "      <td>748.984</td>\n",
       "    </tr>\n",
       "    <tr>\n",
       "      <th>3</th>\n",
       "      <td>2487200875</td>\n",
       "      <td>20141209T000000</td>\n",
       "      <td>604000.0</td>\n",
       "      <td>4</td>\n",
       "      <td>3.00</td>\n",
       "      <td>182.090</td>\n",
       "      <td>464.515</td>\n",
       "      <td>1.0</td>\n",
       "      <td>0</td>\n",
       "      <td>0</td>\n",
       "      <td>...</td>\n",
       "      <td>7</td>\n",
       "      <td>97.548</td>\n",
       "      <td>84.542</td>\n",
       "      <td>1965</td>\n",
       "      <td>0</td>\n",
       "      <td>98136</td>\n",
       "      <td>47.5208</td>\n",
       "      <td>-122.393</td>\n",
       "      <td>126.348</td>\n",
       "      <td>464.515</td>\n",
       "    </tr>\n",
       "    <tr>\n",
       "      <th>4</th>\n",
       "      <td>1954400510</td>\n",
       "      <td>20150218T000000</td>\n",
       "      <td>510000.0</td>\n",
       "      <td>3</td>\n",
       "      <td>2.00</td>\n",
       "      <td>156.077</td>\n",
       "      <td>750.656</td>\n",
       "      <td>1.0</td>\n",
       "      <td>0</td>\n",
       "      <td>0</td>\n",
       "      <td>...</td>\n",
       "      <td>8</td>\n",
       "      <td>156.077</td>\n",
       "      <td>0.000</td>\n",
       "      <td>1987</td>\n",
       "      <td>0</td>\n",
       "      <td>98074</td>\n",
       "      <td>47.6168</td>\n",
       "      <td>-122.045</td>\n",
       "      <td>167.225</td>\n",
       "      <td>697.051</td>\n",
       "    </tr>\n",
       "  </tbody>\n",
       "</table>\n",
       "<p>5 rows × 21 columns</p>\n",
       "</div>"
      ],
      "text/plain": [
       "           id             date     price  bedrooms  bathrooms  sqft_living  \\\n",
       "0  7129300520  20141013T000000  221900.0         3       1.00      109.626   \n",
       "1  6414100192  20141209T000000  538000.0         3       2.25      238.761   \n",
       "2  5631500400  20150225T000000  180000.0         2       1.00       71.535   \n",
       "3  2487200875  20141209T000000  604000.0         4       3.00      182.090   \n",
       "4  1954400510  20150218T000000  510000.0         3       2.00      156.077   \n",
       "\n",
       "   sqft_lot  floors  waterfront  view  ...  grade  sqft_above  sqft_basement  \\\n",
       "0   524.902     1.0           0     0  ...      7     109.626          0.000   \n",
       "1   672.804     2.0           0     0  ...      7     201.600         37.161   \n",
       "2   929.030     1.0           0     0  ...      6      71.535          0.000   \n",
       "3   464.515     1.0           0     0  ...      7      97.548         84.542   \n",
       "4   750.656     1.0           0     0  ...      8     156.077          0.000   \n",
       "\n",
       "   yr_built  yr_renovated  zipcode      lat     long  sqft_living15  \\\n",
       "0      1955             0    98178  47.5112 -122.257        124.490   \n",
       "1      1951          1991    98125  47.7210 -122.319        157.006   \n",
       "2      1933             0    98028  47.7379 -122.233        252.696   \n",
       "3      1965             0    98136  47.5208 -122.393        126.348   \n",
       "4      1987             0    98074  47.6168 -122.045        167.225   \n",
       "\n",
       "   sqft_lot15  \n",
       "0     524.902  \n",
       "1     709.686  \n",
       "2     748.984  \n",
       "3     464.515  \n",
       "4     697.051  \n",
       "\n",
       "[5 rows x 21 columns]"
      ]
     },
     "execution_count": 2,
     "metadata": {},
     "output_type": "execute_result"
    }
   ],
   "source": [
    "# Conversão dos dados de ft² para m² \n",
    "df2 = df1\n",
    "df2['sqft_living'] = (df2['sqft_living'] * 0.092903).round(3)\n",
    "df2['sqft_lot'] = (df2['sqft_lot'] * 0.092903).round(3)\n",
    "df2['sqft_above'] = (df2['sqft_above'] * 0.092903).round(3)\n",
    "df2['sqft_basement'] = (df2['sqft_basement'] * 0.092903).round(3)\n",
    "df2['sqft_living15'] = (df2['sqft_living15'] * 0.092903).round(3)\n",
    "df2['sqft_lot15'] = (df2['sqft_lot15'] * 0.092903).round(3)\n",
    "df2.head()"
   ]
  },
  {
   "cell_type": "markdown",
   "metadata": {},
   "source": [
    "A função round() utilizada anteriormente, é uma função interna do python, que arredonda para o número de dígitos fornecido e retorna o número de ponto flutuante. "
   ]
  },
  {
   "cell_type": "markdown",
   "metadata": {},
   "source": [
    "___"
   ]
  },
  {
   "cell_type": "code",
   "execution_count": 3,
   "metadata": {},
   "outputs": [],
   "source": [
    "import numpy as np\n",
    "\n",
    "Col= len(df2.columns) #Variavel responsavel por calcular a quantidade de colunas da base de dados\n",
    "Lin = len(df2.index) #Variavel responsavel por calcular a quantidade de linhas da base de dados\n",
    "media = np.mean(df2['sqft_living'])\n",
    "mediana = np.median(df2['sqft_living'])\n",
    "quart_1 = np.percentile(df2['sqft_living'], 25)\n",
    "quart_3 = np.percentile(df2['sqft_living'], 75)\n"
   ]
  },
  {
   "cell_type": "markdown",
   "metadata": {},
   "source": [
    "As funções 'mean', 'median' e 'percentile' são funfções interças da biblioteca numpy. A função mean é a função responsável por calcular o tamanho medio das casas, já o median, é responsável por calcular a mediana das mesmas. \n",
    "\n",
    "A função percentile, é a função responsável por calcular os quartis do tamanho das casas passando a posição dos quartis desejados, sendo o 25 o 1º quartil, 50 o 2º ou a mediana, e 75 o 3º quartil."
   ]
  },
  {
   "cell_type": "markdown",
   "metadata": {},
   "source": [
    "___"
   ]
  },
  {
   "cell_type": "markdown",
   "metadata": {},
   "source": [
    "Abaixo, podemos ver o resultado da saída dos dados. (Considere as 'observações' como a quantidade de linhas e 'variáveis' como a quantidade de colunas do Data Frame)."
   ]
  },
  {
   "cell_type": "code",
   "execution_count": 4,
   "metadata": {},
   "outputs": [
    {
     "name": "stdout",
     "output_type": "stream",
     "text": [
      "Existem 21613 observações no conjunto de dados\n",
      "Existem 21 variáveis no conjunto de dados\n",
      "O tamanho médio das casa é de: 193.23m²\n",
      "A mediana do tamanho das casas é de: 177.44m²\n",
      "1º Quartil do tamanho das casas: 132.57\n",
      "3º Quartil do tamanho das casas: 236.90\n"
     ]
    }
   ],
   "source": [
    "# Visualização dos dados\n",
    "print(f'Existem {Lin} observações no conjunto de dados')\n",
    "print(f'Existem {Col} variáveis no conjunto de dados')\n",
    "print(f'O tamanho médio das casa é de: {media:.2f}m²')\n",
    "print(f'A mediana do tamanho das casas é de: {mediana:.2f}m²')\n",
    "\n",
    "# Quartis\n",
    "print(f'1º Quartil do tamanho das casas: {quart_1:.2f}')\n",
    "print(f'3º Quartil do tamanho das casas: {quart_3:.2f}')\n"
   ]
  },
  {
   "cell_type": "markdown",
   "metadata": {},
   "source": [
    "Com base nos dados vistos até agora, algumas perguntas podem surgir no decorrer do caminho. No momento, nos atentaremos a apenas uma:\n",
    "\n",
    "- Neste conjunto de dados há casas com tamanho muito acima ou abaixo do esperado (outliers)?"
   ]
  },
  {
   "cell_type": "code",
   "execution_count": 5,
   "metadata": {},
   "outputs": [
    {
     "data": {
      "image/png": "[encoded data removed]",
      "text/plain": [
       "<Figure size 432x288 with 1 Axes>"
      ]
     },
     "metadata": {
      "needs_background": "light"
     },
     "output_type": "display_data"
    }
   ],
   "source": [
    "# Contrução do Bloxplot para o tamanho das casas;\n",
    "import matplotlib.pyplot as plt\n",
    "\n",
    "plt.boxplot(df2['sqft_living'])\n",
    "plt.title(\"Tamanho das Casas\")\n",
    "plt.show()"
   ]
  },
  {
   "cell_type": "markdown",
   "metadata": {},
   "source": [
    "Observando os dados no boxplot, pedemos ver a densa quantidade de observações acima do limite superior no gráfico, podemos perceber que existem grandes quantidades de observações com tamanhos a cima do esperado."
   ]
  },
  {
   "cell_type": "markdown",
   "metadata": {},
   "source": [
    "___"
   ]
  },
  {
   "cell_type": "markdown",
   "metadata": {},
   "source": [
    "A partir daqui, construiremos alguns modelos de regressão lienar para predizermos o preço **(price)** das casas com **statsmodels** e **sklearn**."
   ]
  },
  {
   "cell_type": "markdown",
   "metadata": {},
   "source": [
    "Neste primeiro exemplo, usaremos a biblioteca **statsmodels.api** para fazermos a primeira predição e geraremos um gráfico com o **OLS (Ordinary Least Square )**."
   ]
  },
  {
   "cell_type": "code",
   "execution_count": 6,
   "metadata": {},
   "outputs": [],
   "source": [
    "import statsmodels.api as sm"
   ]
  },
  {
   "cell_type": "code",
   "execution_count": 7,
   "metadata": {},
   "outputs": [
    {
     "name": "stdout",
     "output_type": "stream",
     "text": [
      "                            OLS Regression Results                            \n",
      "==============================================================================\n",
      "Dep. Variable:                  price   R-squared:                       0.695\n",
      "Model:                            OLS   Adj. R-squared:                  0.695\n",
      "Method:                 Least Squares   F-statistic:                     2900.\n",
      "Date:                Sat, 30 Apr 2022   Prob (F-statistic):               0.00\n",
      "Time:                        14:21:50   Log-Likelihood:            -2.9476e+05\n",
      "No. Observations:               21613   AIC:                         5.896e+05\n",
      "Df Residuals:                   21595   BIC:                         5.897e+05\n",
      "Df Model:                          17                                         \n",
      "Covariance Type:            nonrobust                                         \n",
      "=================================================================================\n",
      "                    coef    std err          t      P>|t|      [0.025      0.975]\n",
      "---------------------------------------------------------------------------------\n",
      "const         -3.686e+07    1.6e+06    -23.106      0.000      -4e+07   -3.37e+07\n",
      "bedrooms      -3.414e+04   1903.400    -17.939      0.000   -3.79e+04   -3.04e+04\n",
      "bathrooms      4.215e+04   3276.724     12.864      0.000    3.57e+04    4.86e+04\n",
      "sqft_living   -1.166e+06   4.22e+06     -0.276      0.782   -9.44e+06     7.1e+06\n",
      "sqft_lot          1.3719      0.520      2.641      0.008       0.354       2.390\n",
      "floors          764.2666   3605.914      0.212      0.832   -6303.590    7832.123\n",
      "waterfront     5.879e+05   1.75e+04     33.626      0.000    5.54e+05    6.22e+05\n",
      "view           4.943e+04   2146.487     23.027      0.000    4.52e+04    5.36e+04\n",
      "condition      3.103e+04   2353.494     13.186      0.000    2.64e+04    3.56e+04\n",
      "grade          9.721e+04   2167.030     44.860      0.000     9.3e+04    1.01e+05\n",
      "sqft_above     1.168e+06   4.22e+06      0.277      0.782    -7.1e+06    9.44e+06\n",
      "sqft_basement  1.167e+06   4.22e+06      0.277      0.782    -7.1e+06    9.44e+06\n",
      "yr_built      -2456.3698     72.582    -33.843      0.000   -2598.637   -2314.103\n",
      "yr_renovated     21.5271      3.681      5.849      0.000      14.313      28.741\n",
      "lat             5.61e+05   1.05e+04     53.191      0.000     5.4e+05    5.82e+05\n",
      "long           -1.17e+05    1.2e+04     -9.756      0.000   -1.41e+05   -9.35e+04\n",
      "sqft_living15   295.3220     37.211      7.936      0.000     222.385     368.259\n",
      "sqft_lot15       -4.2328      0.794     -5.329      0.000      -5.790      -2.676\n",
      "==============================================================================\n",
      "Omnibus:                    18536.962   Durbin-Watson:                   1.993\n",
      "Prob(Omnibus):                  0.000   Jarque-Bera (JB):          1881981.524\n",
      "Skew:                           3.617   Prob(JB):                         0.00\n",
      "Kurtosis:                      48.139   Cond. No.                     2.53e+07\n",
      "==============================================================================\n",
      "\n",
      "Notes:\n",
      "[1] Standard Errors assume that the covariance matrix of the errors is correctly specified.\n",
      "[2] The condition number is large, 2.53e+07. This might indicate that there are\n",
      "strong multicollinearity or other numerical problems.\n"
     ]
    }
   ],
   "source": [
    "X_treino = df2.drop(['price','date','id','zipcode'], axis=1)\n",
    "y_treino = df2['price']\n",
    "\n",
    "X_sm = sm.add_constant(X_treino)\n",
    "mod = sm.OLS(exog=X_sm, endog=y_treino)\n",
    "res = mod.fit()\n",
    "\n",
    "print(res.summary())"
   ]
  },
  {
   "cell_type": "markdown",
   "metadata": {},
   "source": [
    "___"
   ]
  },
  {
   "cell_type": "markdown",
   "metadata": {},
   "source": [
    "Neste segundo exemplo, faremos outro modelo utilizando a biblioteca **sklearn**."
   ]
  },
  {
   "cell_type": "code",
   "execution_count": 8,
   "metadata": {},
   "outputs": [],
   "source": [
    "from sklearn.feature_selection import RFE\n",
    "from sklearn.preprocessing import StandardScaler\n",
    "from sklearn.linear_model import LinearRegression\n",
    "from sklearn.model_selection import train_test_split\n",
    "from sklearn.metrics import r2_score, mean_absolute_error"
   ]
  },
  {
   "cell_type": "code",
   "execution_count": 9,
   "metadata": {},
   "outputs": [],
   "source": [
    "X = df2.drop(['price','date','id','zipcode'], axis=1)\n",
    "y = df2['price']\n",
    "\n",
    "X_train, X_test, y_train, y_test = train_test_split(X, y, test_size = 0.33, random_state=42)\n",
    "\n",
    "regression = LinearRegression()\n",
    "regression.fit(X_train, y_train)\n",
    "\n",
    "y_pred = regression.predict(X_test)"
   ]
  },
  {
   "cell_type": "code",
   "execution_count": 10,
   "metadata": {},
   "outputs": [],
   "source": [
    "r2_train = regression.score(X_train, y_train)\n",
    "r2_test = regression.score(X_test, y_test)\n",
    "mae_train = mean_absolute_error(y_test, y_pred)"
   ]
  },
  {
   "cell_type": "markdown",
   "metadata": {},
   "source": [
    "A baixo, podemos ver as saidas dos valores de ${R}^{2}$ e $MAE$ obtidos."
   ]
  },
  {
   "cell_type": "code",
   "execution_count": 11,
   "metadata": {},
   "outputs": [
    {
     "name": "stdout",
     "output_type": "stream",
     "text": [
      "R² no set de treino: 0.70\n",
      "R² no set de teste: 0.69\n",
      "O valor de MAE obitido é : US$127189.27\n"
     ]
    }
   ],
   "source": [
    "print(f'R² no set de treino: {r2_train:.2f}')\n",
    "print(f'R² no set de teste: {r2_test:.2f}')\n",
    "print(f'O valor de MAE obitido é : US${mae_train:.2f}')"
   ]
  },
  {
   "cell_type": "markdown",
   "metadata": {},
   "source": [
    "___"
   ]
  },
  {
   "cell_type": "markdown",
   "metadata": {},
   "source": [
    "Por fim, faremos um terceiro novo modelo, utilizando a seleção de caracteristicas, e selecionando as 5 variaveis mais importantes."
   ]
  },
  {
   "cell_type": "code",
   "execution_count": 12,
   "metadata": {},
   "outputs": [],
   "source": [
    "X = df2.drop(['price', 'date', 'id', 'zipcode'], axis=1)\n",
    "y = df2['price']\n",
    "X_std = StandardScaler().fit_transform(X)"
   ]
  },
  {
   "cell_type": "code",
   "execution_count": 13,
   "metadata": {},
   "outputs": [],
   "source": [
    "regression = LinearRegression()\n",
    "selector = RFE(regression, n_features_to_select=8, step=1)\n",
    "selector = selector.fit(X_std, y)"
   ]
  },
  {
   "cell_type": "code",
   "execution_count": 14,
   "metadata": {},
   "outputs": [],
   "source": [
    "X = X[X.columns[selector.support_]]\n",
    "X_std = StandardScaler().fit_transform(X)\n",
    "\n",
    "X_train, X_test, y_train, y_test = train_test_split(X_std, y, test_size = 0.33, random_state=42)"
   ]
  },
  {
   "cell_type": "code",
   "execution_count": 15,
   "metadata": {},
   "outputs": [],
   "source": [
    "regressLinear = LinearRegression()\n",
    "regressLinear.fit(X_train, y_train)\n",
    "y_pred = regressLinear.predict(X_test)"
   ]
  },
  {
   "cell_type": "code",
   "execution_count": 16,
   "metadata": {},
   "outputs": [],
   "source": [
    "R2 = r2_score(y_test, y_pred)\n",
    "Mae = mean_absolute_error(y_test, y_pred)"
   ]
  },
  {
   "cell_type": "code",
   "execution_count": null,
   "metadata": {},
   "outputs": [],
   "source": [
    "print(f'O valor de R²: {R2:.2f}')\n",
    "print(f'O valor de Erro Médio Absoluto: US${Mae:.2f}')\n",
    "print(f'As variáveis mais importantes foram: {X.columns}')"
   ]
  },
  {
   "cell_type": "markdown",
   "metadata": {},
   "source": [
    "___"
   ]
  },
  {
   "cell_type": "markdown",
   "metadata": {},
   "source": [
    "A capacidade de comunicação é um dos principais pontos na análise de dados, pois sua análise deve ser tão boa quanto a sua capacidade de comunicá-la. Para isso usamos tabelas resumo e gráficos para apresentar os principais achados do trabalho realizado. Podemos adicionar outros materias que possam aprofundar essa apresentação como artigos e outros estudos realizados.\n",
    "\n",
    "Assim, quatro perguntas podem ser feitas:\n",
    "\n",
    "- 1º A qualidade da casa influencia no preço? \n",
    "\n",
    "- 2º A localização da casa também influencia no preço? \n",
    "\n",
    "- 3º Qual visualização interessante destacar?\n",
    "\n",
    "- 4º A sua visualização responde uma das suas perguntas? Se não, o que ela responde?"
   ]
  },
  {
   "cell_type": "code",
   "execution_count": 17,
   "metadata": {},
   "outputs": [
    {
     "data": {
      "text/plain": [
       "id              -0.016762\n",
       "price            1.000000\n",
       "bedrooms         0.308350\n",
       "bathrooms        0.525138\n",
       "sqft_living      0.702035\n",
       "sqft_lot         0.089661\n",
       "floors           0.256794\n",
       "waterfront       0.266369\n",
       "view             0.397293\n",
       "condition        0.036362\n",
       "grade            0.667434\n",
       "sqft_above       0.605567\n",
       "sqft_basement    0.323816\n",
       "yr_built         0.054012\n",
       "yr_renovated     0.126434\n",
       "zipcode         -0.053203\n",
       "lat              0.307003\n",
       "long             0.021626\n",
       "sqft_living15    0.585379\n",
       "sqft_lot15       0.082447\n",
       "Name: price, dtype: float64"
      ]
     },
     "execution_count": 17,
     "metadata": {},
     "output_type": "execute_result"
    }
   ],
   "source": [
    "import pandas as pd\n",
    "import seaborn as sns\n",
    "df1 = pd.read_csv('kc_house_data.csv')\n",
    "df1.corr()['price']"
   ]
  },
  {
   "cell_type": "code",
   "execution_count": 18,
   "metadata": {},
   "outputs": [
    {
     "data": {
      "text/plain": [
       "<AxesSubplot:xlabel='grade', ylabel='price'>"
      ]
     },
     "execution_count": 18,
     "metadata": {},
     "output_type": "execute_result"
    },
    {
     "data": {
      "image/png": "[encoded data removed]",
      "text/plain": [
       "<Figure size 432x288 with 1 Axes>"
      ]
     },
     "metadata": {
      "needs_background": "light"
     },
     "output_type": "display_data"
    }
   ],
   "source": [
    "#A qualidade da casa influencia no preço?\n",
    "\n",
    "sns.lineplot(x='grade', y='price', data=df1)"
   ]
  },
  {
   "cell_type": "code",
   "execution_count": 19,
   "metadata": {},
   "outputs": [
    {
     "data": {
      "text/plain": [
       "<AxesSubplot:xlabel='zipcode', ylabel='price'>"
      ]
     },
     "execution_count": 19,
     "metadata": {},
     "output_type": "execute_result"
    },
    {
     "data": {
      "image/png": "[encoded data removed]",
      "text/plain": [
       "<Figure size 432x288 with 1 Axes>"
      ]
     },
     "metadata": {
      "needs_background": "light"
     },
     "output_type": "display_data"
    }
   ],
   "source": [
    "#A localização da casa também influencia no preço?\n",
    "\n",
    "sns.lineplot(x='zipcode', y='price', data=df1)"
   ]
  },
  {
   "cell_type": "markdown",
   "metadata": {},
   "source": [
    "___"
   ]
  },
  {
   "cell_type": "markdown",
   "metadata": {},
   "source": [
    "Mais sobre:\n",
    "* **round():** https://medium.com/@ealexbarros/utilizando-a-fun%C3%A7%C3%A3o-round-em-python-c92541d5c6c1\n",
    "\n",
    "* **statsmodels.api:** https://www.statsmodels.org/stable/index.html\n",
    "\n",
    "* **summary()** https://www.rdocumentation.org/packages/base/versions/3.6.2/topics/summary\n",
    "\n",
    "* **mean**: https://numpy.org/doc/stable/reference/generated/numpy.mean.html\n",
    "\n",
    "* **median**: https://numpy.org/doc/stable/reference/generated/numpy.median.html\n",
    "\n",
    "* **percentile**: https://numpy.org/doc/stable/reference/generated/numpy.percentile.html\n",
    "\n",
    "* **RFE:** https://scikit-learn.org/stable/modules/generated/sklearn.feature_selection.RFE.html\n",
    "\n",
    "* **StandardScaler:** https://scikit-learn.org/stable/modules/generated/sklearn.preprocessing.StandardScaler.html\n",
    "\n",
    "* **LinearRegression:** https://scikit-learn.org/stable/modules/generated/sklearn.linear_model.LinearRegression.html\n",
    "\n",
    "* **train_test_split:** https://scikit-learn.org/stable/modules/generated/sklearn.model_selection.train_test_split.html\n",
    "* **r2_score:** https://scikit-learn.org/stable/modules/generated/sklearn.metrics.r2_score.html\n",
    "\n",
    "* **mean_absolute_erro:** https://scikit-learn.org/stable/modules/generated/sklearn.metrics.mean_absolute_error.html\n",
    "\n",
    "* **predict():** https://www.askpython.com/python/examples/python-predict-function\n",
    "\n",
    "* **fit(), transform(), fit_transform():** https://www.analyticsvidhya.com/blog/2021/04/difference-between-fit-transform-fit_transform-methods-in-scikit-learn-with-python-code/\n",
    "\n",
    "* **corr():** https://pandas.pydata.org/docs/reference/api/pandas.DataFrame.corr.html"
   ]
  }
 ],
 "metadata": {
  "kernelspec": {
   "display_name": "Python 3",
   "language": "python",
   "name": "python3"
  },
  "language_info": {
   "codemirror_mode": {
    "name": "ipython",
    "version": 3
   },
   "file_extension": ".py",
   "mimetype": "text/x-python",
   "name": "python",
   "nbconvert_exporter": "python",
   "pygments_lexer": "ipython3",
   "version": "3.10.2"
  }
 },
 "nbformat": 4,
 "nbformat_minor": 4
}
