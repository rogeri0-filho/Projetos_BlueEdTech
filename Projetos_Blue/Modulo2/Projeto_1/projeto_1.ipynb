{
 "cells": [
  {
   "cell_type": "markdown",
   "metadata": {},
   "source": [
    "# Projeto 1 - Predição da precificação de casas \n",
    "## House Sales in King County, USA - Kaggle"
   ]
  },
  {
   "cell_type": "markdown",
   "metadata": {},
   "source": [
    "_________"
   ]
  },
  {
   "cell_type": "markdown",
   "metadata": {},
   "source": [
    "## Introdução"
   ]
  },
  {
   "cell_type": "markdown",
   "metadata": {},
   "source": [
    "Este é um conjunto de dados armazenado no Kaggle, uma plataforma de estudo e competições de Ciência de Dados. Segue a tradução sobre o conjunto de dados.\n",
    "\n",
    "**\"Este conjunto de dados contém preços de venda de casas para King County, que inclui Seattle. Inclui casas vendidas entre maio de 2014 e maio de 2015.\"**\n",
    "\n",
    "Segue a descrição das variaveis: \n",
    "| Nome da Variavel | Descrição da variavel |\n",
    "| -- | -- |\n",
    "| id | ID exclusivo para cada casa vendida | \n",
    "| date | Data da venda da casa | \n",
    "| price | Preço de cada casa vendida | \n",
    "| bedrooms | Número de quartos  |\n",
    "| bathrooms | Número de banheiros, onde 0,5 representa um quarto com vaso sanitário, mas sem chuveiro  |\n",
    "| sqft_living | Pés quadrados do espaço interior dos apartamentos  |\n",
    "| sqft_lot | Pés quadrados do terreno  |\n",
    "| floors | Número de andares  |\n",
    "| waterfront | Uma variável fictícia para saber se o apartamento estava com vista para a orla ou não  |\n",
    "| view | Um índice de 0 a 4 de quão boa era a vista do imóvel  |\n",
    "| condition | Um índice de 1 a 5 sobre a condição do apartamento,|\n",
    "| grade | Um índice de 1 a 13, onde 1 a 3 fica aquém da construção e design de edifícios, 7 tem um nível médio de construção e design e 11 a 13 tem um alto nível de construção e design. |\n",
    "| sqft_above | Pés quadrados do espaço interno da habitação que está acima do nível do solo |\n",
    "| sqft_basement | Pés quadrados do espaço interno da habitação que está abaixo do nível do solo|\n",
    "| yr_built | O ano em que a casa foi construída inicialmente|\n",
    "| yr_renovated | O ano da última reforma da casa|\n",
    "| zipcode | Em que área de código postal a casa está|\n",
    "| lat | Latitude|\n",
    "| long | Longitude|\n",
    "| sqft_living15 | Pés quadrados do espaço habitacional interior para os 15 vizinhos mais próximos|\n",
    "| sqft_lot15 | Pés quadrados dos lotes dos 15 vizinhos mais próximos|"
   ]
  },
  {
   "cell_type": "markdown",
   "metadata": {},
   "source": [
    "_________"
   ]
  },
  {
   "cell_type": "markdown",
   "metadata": {},
   "source": [
    "# Sobre este projeto\n",
    "\n",
    "Este é o primeiro projeto do segundo módulo do curso de Ciência de Dados da BlueEdTech. O projeto tem o intuito de treinar os conhecimentos adquiridos a cerca do curso ate o atual momento. E por subsequente, demonstrar as dificuldades na hora de aplicar os mesmos.\n",
    "\n",
    "Os principais pontos que serão avaliados:\n",
    "\n",
    "- Levantamento de hipoteses\n",
    "- Manipulação de dados e criação de gráficos simples com o `Pandas`\n",
    "- Criar um modelo usando regressão linear e justificar"
   ]
  },
  {
   "cell_type": "markdown",
   "metadata": {},
   "source": [
    "_________"
   ]
  },
  {
   "cell_type": "markdown",
   "metadata": {},
   "source": [
    "# Preparação do ambiente\n",
    "\n",
    "- Acessem o link - https://www.kaggle.com/datasets/harlfoxem/housesalesprediction e logo abaixo e clique em \"Download\". Caso voce não tenha uma conta no Kaggle, crie uma e retorne para esse ponto para realizar o download."
   ]
  },
  {
   "cell_type": "markdown",
   "metadata": {},
   "source": [
    "_________"
   ]
  },
  {
   "cell_type": "markdown",
   "metadata": {},
   "source": [
    "Faremos uma analise exploratoria sobre estes dados. Para isso, será utilizada a biblioteca numpy para obter a contagem da média, mediana e os quartis."
   ]
  },
  {
   "cell_type": "code",
   "execution_count": null,
   "metadata": {},
   "outputs": [],
   "source": [
    "# Leitura dos Dados\n",
    "import pandas as pd\n",
    "df1 = pd.read_csv('kc_house_data.csv')\n",
    "df1.head()"
   ]
  },
  {
   "cell_type": "markdown",
   "metadata": {},
   "source": [
    "___"
   ]
  },
  {
   "cell_type": "markdown",
   "metadata": {},
   "source": [
    "- Como alguns dados na base de dados estão em pés quadrados (sqft), o comando a baixo faz a conversão de pés quadrados (ft²) pra metros quadrados (m²) para a melhor interpretação dos dados."
   ]
  },
  {
   "cell_type": "markdown",
   "metadata": {},
   "source": [
    "- Como 1ft² corresponde a 0.092903m², basta fazer a multiplicação da quantidade de pés quadrados por 0.092903 para obter o equivalente em m²."
   ]
  },
  {
   "cell_type": "code",
   "execution_count": 3,
   "metadata": {},
   "outputs": [],
   "source": [
    "# Conversão dos dados de ft² para m² \n",
    "df2 = df1\n",
    "df2['sqft_living'] = (df2['sqft_living'] * 0.092903).round(3)\n",
    "df2['sqft_lot'] = (df2['sqft_lot'] * 0.092903).round(3)\n",
    "df2['sqft_above'] = (df2['sqft_above'] * 0.092903).round(3)\n",
    "df2['sqft_basement'] = (df2['sqft_basement'] * 0.092903).round(3)\n",
    "df2['sqft_living15'] = (df2['sqft_living15'] * 0.092903).round(3)\n",
    "df2['sqft_lot15'] = (df2['sqft_lot15'] * 0.092903).round(3)\n",
    "#df2.head()"
   ]
  },
  {
   "cell_type": "markdown",
   "metadata": {},
   "source": [
    "A função round() utilizada anteriormente, é uma função interna do python, que arredonda para o número de dígitos fornecido e retorna o número de ponto flutuante. "
   ]
  },
  {
   "cell_type": "markdown",
   "metadata": {},
   "source": [
    "___"
   ]
  },
  {
   "cell_type": "code",
   "execution_count": 4,
   "metadata": {},
   "outputs": [],
   "source": [
    "import numpy as np\n",
    "\n",
    "Col= len(df2.columns) #Variavel responsavel por calcular a quantidade de colunas da base de dados\n",
    "Lin = len(df2.index) #Variavel responsavel por calcular a quantidade de linhas da base de dados\n",
    "media = np.mean(df2['sqft_living'])\n",
    "mediana = np.median(df2['sqft_living'])\n",
    "quart_1 = np.percentile(df2['sqft_living'], 25)\n",
    "quart_3 = np.percentile(df2['sqft_living'], 75)\n"
   ]
  },
  {
   "cell_type": "markdown",
   "metadata": {},
   "source": [
    "As funções 'mean', 'median' e 'percentile' são funfções interças da biblioteca numpy. A função mean é a função responsável por calcular o tamanho medio das casas, já o median, é responsável por calcular a mediana das mesmas. \n",
    "\n",
    "A função percentile, é a função responsável por calcular os quartis do tamanho das casas passando a posição dos quartis desejados, sendo o 25 o 1º quartil, 50 o 2º ou a mediana, e 75 o 3º quartil."
   ]
  },
  {
   "cell_type": "markdown",
   "metadata": {},
   "source": [
    "___"
   ]
  },
  {
   "cell_type": "markdown",
   "metadata": {},
   "source": [
    "Abaixo, podemos ver o resultado da saída dos dados. (Considere as 'observações' como a quantidade de linhas e 'variáveis' como a quantidade de colunas do Data Frame)."
   ]
  },
  {
   "cell_type": "code",
   "execution_count": null,
   "metadata": {},
   "outputs": [],
   "source": [
    "# Visualização dos dados\n",
    "print(f'Existem {Lin} observações no conjunto de dados')\n",
    "print(f'Existem {Col} variáveis no conjunto de dados')\n",
    "print(f'O tamanho médio das casa é de: {media:.2f}m²')\n",
    "print(f'A mediana do tamanho das casas é de: {mediana:.2f}m²')\n",
    "\n",
    "# Quartis\n",
    "print(f'1º Quartil do tamanho das casas: {quart_1:.2f}')\n",
    "print(f'3º Quartil do tamanho das casas: {quart_3:.2f}')\n"
   ]
  },
  {
   "cell_type": "markdown",
   "metadata": {},
   "source": [
    "Com base nos dados vistos até agora, algumas perguntas podem surgir no decorrer do caminho. No momento, nos atentaremos a apenas uma:\n",
    "\n",
    "- Neste conjunto de dados há casas com tamanho muito acima ou abaixo do esperado (outliers)?"
   ]
  },
  {
   "cell_type": "code",
   "execution_count": null,
   "metadata": {},
   "outputs": [],
   "source": [
    "# Contrução do Bloxplot para o tamanho das casas;\n",
    "import matplotlib.pyplot as plt\n",
    "\n",
    "plt.boxplot(df2['sqft_living'])\n",
    "plt.title(\"Tamanho das Casas\")\n",
    "plt.show()"
   ]
  },
  {
   "cell_type": "markdown",
   "metadata": {},
   "source": [
    "Observando os dados no boxplot, pedemos ver a densa quantidade de observações acima do limite superior no gráfico, podemos perceber que existem grandes quantidades de observações com tamanhos a cima do esperado."
   ]
  },
  {
   "cell_type": "markdown",
   "metadata": {},
   "source": [
    "___"
   ]
  },
  {
   "cell_type": "markdown",
   "metadata": {},
   "source": [
    "A partir daqui, construiremos alguns modelos de regressão lienar para predizermos o preço **(price)** das casas com **statsmodels** e **sklearn**."
   ]
  },
  {
   "cell_type": "markdown",
   "metadata": {},
   "source": [
    "Neste primeiro exemplo, usaremos a biblioteca **statsmodels.api** para fazermos a primeira predição e geraremos um gráfico com o **OLS (Ordinary Least Square )**."
   ]
  },
  {
   "cell_type": "code",
   "execution_count": 5,
   "metadata": {},
   "outputs": [],
   "source": [
    "import statsmodels.api as sm"
   ]
  },
  {
   "cell_type": "code",
   "execution_count": null,
   "metadata": {},
   "outputs": [],
   "source": [
    "X_treino = df2.drop(['price','date','id','zipcode'], axis=1)\n",
    "y_treino = df2['price']\n",
    "\n",
    "X_sm = sm.add_constant(X_treino)\n",
    "mod = sm.OLS(exog=X_sm, endog=y_treino)\n",
    "res = mod.fit()\n",
    "\n",
    "print(res.summary())"
   ]
  },
  {
   "cell_type": "markdown",
   "metadata": {},
   "source": [
    "___"
   ]
  },
  {
   "cell_type": "markdown",
   "metadata": {},
   "source": [
    "Neste segundo exemplo, faremos outro modelo utilizando a biblioteca **sklearn**."
   ]
  },
  {
   "cell_type": "code",
   "execution_count": 25,
   "metadata": {},
   "outputs": [],
   "source": [
    "from sklearn.feature_selection import RFE\n",
    "from sklearn.preprocessing import StandardScaler\n",
    "from sklearn.linear_model import LinearRegression\n",
    "from sklearn.model_selection import train_test_split\n",
    "from sklearn.metrics import r2_score, mean_absolute_error"
   ]
  },
  {
   "cell_type": "code",
   "execution_count": 28,
   "metadata": {},
   "outputs": [],
   "source": [
    "X = df2.drop(['price','date','id','zipcode'], axis=1)\n",
    "y = df2['price']\n",
    "\n",
    "X_train, X_test, y_train, y_test = train_test_split(X, y, test_size = 0.33, random_state=42)\n",
    "\n",
    "regression = LinearRegression()\n",
    "regression.fit(X_train, y_train)\n",
    "\n",
    "y_pred = regression.predict(X_test)"
   ]
  },
  {
   "cell_type": "code",
   "execution_count": 29,
   "metadata": {},
   "outputs": [],
   "source": [
    "r2_train = regression.score(X_train, y_train)\n",
    "r2_test = regression.score(X_test, y_test)\n",
    "mae_train = mean_absolute_error(y_test, y_pred)"
   ]
  },
  {
   "cell_type": "markdown",
   "metadata": {},
   "source": [
    "A baixo, podemos ver as saidas dos valores de ${R}^{2}$ e $MAE$ obtidos."
   ]
  },
  {
   "cell_type": "code",
   "execution_count": null,
   "metadata": {},
   "outputs": [],
   "source": [
    "print(f'R² no set de treino: {r2_train:.2f}')\n",
    "print(f'R² no set de teste: {r2_test:.2f}')\n",
    "print(f'O valor de MAE obitido é : US${mae_train:.2f}')"
   ]
  },
  {
   "cell_type": "markdown",
   "metadata": {},
   "source": [
    "___"
   ]
  },
  {
   "cell_type": "markdown",
   "metadata": {},
   "source": [
    "Por fim, faremos um terceiro novo modelo, utilizando a seleção de caracteristicas, e selecionando as 5 variaveis mais importantes."
   ]
  },
  {
   "cell_type": "code",
   "execution_count": null,
   "metadata": {},
   "outputs": [],
   "source": [
    "X = df2.drop(['price', 'date', 'id', 'zipcode'], axis=1)\n",
    "y = df2['price']\n",
    "X_std = StandardScaler().fit_transform(X)"
   ]
  },
  {
   "cell_type": "code",
   "execution_count": null,
   "metadata": {},
   "outputs": [],
   "source": [
    "regression = LinearRegression()\n",
    "selector = RFE(regression, n_features_to_select=8, step=1)\n",
    "selector = selector.fit(X_std, y)"
   ]
  },
  {
   "cell_type": "code",
   "execution_count": null,
   "metadata": {},
   "outputs": [],
   "source": [
    "X = X[X.columns[selector.support_]]\n",
    "X_std = StandardScaler().fit_transform(X)\n",
    "\n",
    "X_train, X_test, y_train, y_test = train_test_split(X_std, y, test_size = 0.33, random_state=42)"
   ]
  },
  {
   "cell_type": "code",
   "execution_count": null,
   "metadata": {},
   "outputs": [],
   "source": [
    "regressLinear = LinearRegression()\n",
    "regressLinear.fit(X_train, y_train)\n",
    "y_pred = regressLinear.predict(X_test)"
   ]
  },
  {
   "cell_type": "code",
   "execution_count": null,
   "metadata": {},
   "outputs": [],
   "source": [
    "R2 = r2_score(y_test, y_pred)\n",
    "Mae = mean_absolute_error(y_test, y_pred)"
   ]
  },
  {
   "cell_type": "code",
   "execution_count": null,
   "metadata": {},
   "outputs": [],
   "source": [
    "print(f'O valor de R²: {R2:.2f}')\n",
    "print(f'O valor de Erro Médio Absoluto: US${Mae:.2f}')\n",
    "print(f'As variáveis mais importantes foram: {X.columns}')"
   ]
  },
  {
   "cell_type": "markdown",
   "metadata": {},
   "source": [
    "___"
   ]
  },
  {
   "cell_type": "markdown",
   "metadata": {},
   "source": [
    "A capacidade de comunicação é um dos principais pontos na análise de dados, pois sua análise deve ser tão boa quanto a sua capacidade de comunicá-la. Para isso usamos tabelas resumo e gráficos para apresentar os principais achados do trabalho realizado. Podemos adicionar outros materias que possam aprofundar essa apresentação como artigos e outros estudos realizados.\n",
    "\n",
    "Assim, quatro perguntas podem ser feitas:\n",
    "\n",
    "- 1º A qualidade da casa influencia no preço? \n",
    "\n",
    "- 2º A localização da casa também influencia no preço? \n",
    "\n",
    "- 3º Qual visualização interessante destacar?\n",
    "\n",
    "- 4º A sua visualização responde uma das suas perguntas? Se não, o que ela responde?"
   ]
  },
  {
   "cell_type": "code",
   "execution_count": null,
   "metadata": {},
   "outputs": [],
   "source": [
    "import pandas as pd\n",
    "import seaborn as sns\n",
    "df1 = pd.read_csv('kc_house_data.csv')\n",
    "df1.corr()['price']"
   ]
  },
  {
   "cell_type": "code",
   "execution_count": null,
   "metadata": {},
   "outputs": [],
   "source": [
    "#A qualidade da casa influencia no preço?\n",
    "\n",
    "sns.lineplot(x='grade', y='price', data=df1)"
   ]
  },
  {
   "cell_type": "code",
   "execution_count": null,
   "metadata": {},
   "outputs": [],
   "source": [
    "#A localização da casa também influencia no preço?\n",
    "\n",
    "sns.lineplot(x='zipcode', y='price', data=df1)"
   ]
  },
  {
   "cell_type": "markdown",
   "metadata": {},
   "source": [
    "___"
   ]
  },
  {
   "cell_type": "markdown",
   "metadata": {},
   "source": [
    "Mais sobre:\n",
    "* **round():** https://medium.com/@ealexbarros/utilizando-a-fun%C3%A7%C3%A3o-round-em-python-c92541d5c6c1\n",
    "\n",
    "* **statsmodels.api:** https://www.statsmodels.org/stable/index.html\n",
    "\n",
    "* **summary()** https://www.rdocumentation.org/packages/base/versions/3.6.2/topics/summary\n",
    "\n",
    "* **mean**: https://numpy.org/doc/stable/reference/generated/numpy.mean.html\n",
    "\n",
    "* **median**: https://numpy.org/doc/stable/reference/generated/numpy.median.html\n",
    "\n",
    "* **percentile**: https://numpy.org/doc/stable/reference/generated/numpy.percentile.html\n",
    "\n",
    "* **RFE:** https://scikit-learn.org/stable/modules/generated/sklearn.feature_selection.RFE.html\n",
    "\n",
    "* **StandardScaler:** https://scikit-learn.org/stable/modules/generated/sklearn.preprocessing.StandardScaler.html\n",
    "\n",
    "* **LinearRegression:** https://scikit-learn.org/stable/modules/generated/sklearn.linear_model.LinearRegression.html\n",
    "\n",
    "* **train_test_split:** https://scikit-learn.org/stable/modules/generated/sklearn.model_selection.train_test_split.html\n",
    "* **r2_score:** https://scikit-learn.org/stable/modules/generated/sklearn.metrics.r2_score.html\n",
    "\n",
    "* **mean_absolute_erro:** https://scikit-learn.org/stable/modules/generated/sklearn.metrics.mean_absolute_error.html\n",
    "\n",
    "* **predict():** https://www.askpython.com/python/examples/python-predict-function\n",
    "\n",
    "* **fit(), transform(), fit_transform():** https://www.analyticsvidhya.com/blog/2021/04/difference-between-fit-transform-fit_transform-methods-in-scikit-learn-with-python-code/\n",
    "\n",
    "* **corr():** https://pandas.pydata.org/docs/reference/api/pandas.DataFrame.corr.html"
   ]
  }
 ],
 "metadata": {
  "kernelspec": {
   "display_name": "Python 3",
   "language": "python",
   "name": "python3"
  },
  "language_info": {
   "codemirror_mode": {
    "name": "ipython",
    "version": 3
   },
   "file_extension": ".py",
   "mimetype": "text/x-python",
   "name": "python",
   "nbconvert_exporter": "python",
   "pygments_lexer": "ipython3",
   "version": "3.10.2"
  }
 },
 "nbformat": 4,
 "nbformat_minor": 4
}
